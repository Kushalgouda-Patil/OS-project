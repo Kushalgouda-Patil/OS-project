{
 "cells": [
  {
   "cell_type": "code",
   "execution_count": 82,
   "metadata": {},
   "outputs": [
    {
     "name": "stderr",
     "output_type": "stream",
     "text": [
      "/tmp/ipykernel_10984/893129291.py:10: DeprecationWarning: executable_path has been deprecated, please pass in a Service object\n",
      "  driver = webdriver.Chrome(ChromeDriverManager().install())\n"
     ]
    }
   ],
   "source": [
    "import pandas as pd\n",
    "import re\n",
    "import csv\n",
    "import time\n",
    "from bs4 import BeautifulSoup\n",
    "import requests\n",
    "from selenium import webdriver\n",
    "from webdriver_manager.chrome import ChromeDriverManager\n",
    "from selenium.webdriver.common.by import By\n",
    "driver = webdriver.Chrome(ChromeDriverManager().install())"
   ]
  },
  {
   "cell_type": "code",
   "execution_count": 83,
   "metadata": {},
   "outputs": [],
   "source": [
    "\n",
    "url=\"https://parents.kletech.ac.in/kletechparenteven2023/\"\n",
    "driver.get(url)\n",
    "soup=BeautifulSoup(driver.page_source)"
   ]
  },
  {
   "cell_type": "code",
   "execution_count": 84,
   "metadata": {},
   "outputs": [],
   "source": [
    "driver.find_element(by='id',value=\"username\").send_keys(\"01fe2121121\")\n",
    "driver.find_element(by='id',value=\"dd\").send_keys(\"12\")\n",
    "driver.find_element(by='id',value=\"mm\").send_keys(\"Dec\")\n",
    "driver.find_element(by='id',value=\"yyyy\").send_keys(\"2001\")"
   ]
  },
  {
   "cell_type": "code",
   "execution_count": 85,
   "metadata": {},
   "outputs": [
    {
     "name": "stdout",
     "output_type": "stream",
     "text": [
      "https://parents.kletech.ac.in/kletechparenteven2023/templates/contineoReg/captcha_images.php?width=150&height=40&code=VBdtcJjF\n"
     ]
    }
   ],
   "source": [
    "image_div = soup.find_all(\"img\")  \n",
    "link=str(image_div[-1])\n",
    "image_link = url+re.search(r'src=\"([^\"]+)\"', link).group(1)\n",
    "print(image_link.replace(\"amp;\", \"\"))"
   ]
  },
  {
   "cell_type": "code",
   "execution_count": 86,
   "metadata": {},
   "outputs": [],
   "source": [
    "#driver.quit()"
   ]
  }
 ],
 "metadata": {
  "kernelspec": {
   "display_name": "Python 3",
   "language": "python",
   "name": "python3"
  },
  "language_info": {
   "codemirror_mode": {
    "name": "ipython",
    "version": 3
   },
   "file_extension": ".py",
   "mimetype": "text/x-python",
   "name": "python",
   "nbconvert_exporter": "python",
   "pygments_lexer": "ipython3",
   "version": "3.10.6"
  },
  "orig_nbformat": 4
 },
 "nbformat": 4,
 "nbformat_minor": 2
}
