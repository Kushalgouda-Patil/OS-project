{
 "cells": [
  {
   "cell_type": "code",
   "execution_count": 119,
   "metadata": {},
   "outputs": [
    {
     "name": "stderr",
     "output_type": "stream",
     "text": [
      "/tmp/ipykernel_10984/893129291.py:10: DeprecationWarning: executable_path has been deprecated, please pass in a Service object\n",
      "  driver = webdriver.Chrome(ChromeDriverManager().install())\n"
     ]
    }
   ],
   "source": [
    "import pandas as pd\n",
    "import re\n",
    "import csv\n",
    "import time\n",
    "from bs4 import BeautifulSoup\n",
    "import requests\n",
    "from selenium import webdriver\n",
    "from webdriver_manager.chrome import ChromeDriverManager\n",
    "from selenium.webdriver.common.by import By\n",
    "driver = webdriver.Chrome(ChromeDriverManager().install())"
   ]
  },
  {
   "cell_type": "code",
   "execution_count": 120,
   "metadata": {},
   "outputs": [],
   "source": [
    "\n",
    "url=\"https://parents.kletech.ac.in/kletechparenteven2023/\"\n",
    "driver.get(url)\n",
    "soup=BeautifulSoup(driver.page_source)"
   ]
  },
  {
   "cell_type": "code",
   "execution_count": 121,
   "metadata": {},
   "outputs": [],
   "source": [
    "driver.find_element(by='id',value=\"username\").send_keys(\"x\")\n",
    "driver.find_element(by='id',value=\"dd\").send_keys(\"x\")\n",
    "driver.find_element(by='id',value=\"mm\").send_keys(\"x\")\n",
    "driver.find_element(by='id',value=\"yyyy\").send_keys(\"x\")"
   ]
  },
  {
   "cell_type": "code",
   "execution_count": 122,
   "metadata": {},
   "outputs": [
    {
     "name": "stdout",
     "output_type": "stream",
     "text": [
      "https://parents.kletech.ac.in/kletechparenteven2023/templates/contineoReg/captcha_images.php?width=150&height=40&code=HBM%2FdZDT\n"
     ]
    }
   ],
   "source": [
    "image_div = soup.find_all(\"img\")  \n",
    "link=str(image_div[-1])\n",
    "image_link = url+re.search(r'src=\"([^\"]+)\"', link).group(1)\n",
    "print(image_link.replace(\"amp;\", \"\"))"
   ]
  },
  {
   "cell_type": "code",
   "execution_count": 123,
   "metadata": {},
   "outputs": [],
   "source": [
    "cpa=input(\"Enter capthcha :\")\n",
    "driver.find_element(by='id',value=\"security_code\").send_keys(cpa)\n",
    "driver.find_element(by=\"xpath\",value='//*[@id=\"loginPanel\"]/div/div[6]/button').click()"
   ]
  },
  {
   "cell_type": "code",
   "execution_count": 176,
   "metadata": {},
   "outputs": [
    {
     "name": "stdout",
     "output_type": "stream",
     "text": [
      "KUSHALGOUDA SHIVANAGOUDA PATIL 4\n",
      "Problem Solving and Analysis 0%\n",
      "Probability and Statistics 96%\n",
      "Microcontroller: Programming and Interfacing 86%\n",
      "Object Oriented Programming 61%\n",
      "Operating System Principles and Programming 70%\n",
      "Principles of Compiler Design 100%\n",
      "Exploratory Data Analysis 91%\n",
      "Object-Oriented Programming Lab 100%\n"
     ]
    }
   ],
   "source": [
    "soup=BeautifulSoup(driver.page_source)\n",
    "name=soup.find_all('div',class_=\"tname2\")[0].text.strip()\n",
    "semester=soup.find_all('div',class_=\"tname2\")[2].text.strip().split()[1]\n",
    "courses=soup.find_all('div',class_=\"coursename\")\n",
    "attendence=soup.find_all('a',title=\"Attendence\")\n",
    "print(name,semester)\n",
    "for i in range(len(courses)):\n",
    "    print(courses[i].text,attendence[i*2].text)"
   ]
  },
  {
   "cell_type": "code",
   "execution_count": 177,
   "metadata": {},
   "outputs": [],
   "source": [
    "driver.quit()"
   ]
  }
 ],
 "metadata": {
  "kernelspec": {
   "display_name": "Python 3",
   "language": "python",
   "name": "python3"
  },
  "language_info": {
   "codemirror_mode": {
    "name": "ipython",
    "version": 3
   },
   "file_extension": ".py",
   "mimetype": "text/x-python",
   "name": "python",
   "nbconvert_exporter": "python",
   "pygments_lexer": "ipython3",
   "version": "3.10.6"
  },
  "orig_nbformat": 4
 },
 "nbformat": 4,
 "nbformat_minor": 2
}
