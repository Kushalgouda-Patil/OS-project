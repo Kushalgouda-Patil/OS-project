{
 "cells": [
  {
   "cell_type": "code",
   "execution_count": 23,
   "metadata": {},
   "outputs": [
    {
     "name": "stderr",
     "output_type": "stream",
     "text": [
      "/tmp/ipykernel_5653/893129291.py:10: DeprecationWarning: executable_path has been deprecated, please pass in a Service object\n",
      "  driver = webdriver.Chrome(ChromeDriverManager().install())\n"
     ]
    }
   ],
   "source": [
    "import pandas as pd\n",
    "import re\n",
    "import csv\n",
    "import time\n",
    "from bs4 import BeautifulSoup\n",
    "import requests\n",
    "from selenium import webdriver\n",
    "from webdriver_manager.chrome import ChromeDriverManager\n",
    "from selenium.webdriver.common.by import By\n",
    "driver = webdriver.Chrome(ChromeDriverManager().install())"
   ]
  },
  {
   "cell_type": "code",
   "execution_count": 24,
   "metadata": {},
   "outputs": [],
   "source": [
    "\n",
    "url=\"https://parents.kletech.ac.in/kletechparenteven2023/\"\n",
    "driver.get(url)\n",
    "soup=BeautifulSoup(driver.page_source)"
   ]
  },
  {
   "cell_type": "code",
   "execution_count": 25,
   "metadata": {},
   "outputs": [],
   "source": [
    "with open('login.txt','r') as fp:\n",
    "    usn=fp.readline()\n",
    "    dd=fp.readline()\n",
    "    mm=fp.readline()\n",
    "    yyyy=fp.readline()"
   ]
  },
  {
   "cell_type": "code",
   "execution_count": 26,
   "metadata": {},
   "outputs": [],
   "source": [
    "driver.find_element(by='id',value=\"username\").send_keys(usn)\n",
    "driver.find_element(by='id',value=\"dd\").send_keys(dd)\n",
    "driver.find_element(by='id',value=\"mm\").send_keys(mm)\n",
    "driver.find_element(by='id',value=\"yyyy\").send_keys(yyyy)"
   ]
  },
  {
   "cell_type": "code",
   "execution_count": 27,
   "metadata": {},
   "outputs": [
    {
     "name": "stdout",
     "output_type": "stream",
     "text": [
      "https://parents.kletech.ac.in/kletechparenteven2023/templates/contineoReg/captcha_images.php?width=150&height=40&code=ShRvc9aY\n"
     ]
    }
   ],
   "source": [
    "image_div = soup.find_all(\"img\")  \n",
    "link=str(image_div[-1])\n",
    "image_link = url+re.search(r'src=\"([^\"]+)\"', link).group(1)\n",
    "print(image_link.replace(\"amp;\", \"\"))"
   ]
  },
  {
   "cell_type": "code",
   "execution_count": 28,
   "metadata": {},
   "outputs": [],
   "source": [
    "cpa=input(\"Enter capthcha :\")\n",
    "driver.find_element(by='id',value=\"security_code\").send_keys(cpa)\n",
    "driver.find_element(by=\"xpath\",value='//*[@id=\"loginPanel\"]/div/div[6]/button').click()"
   ]
  },
  {
   "cell_type": "code",
   "execution_count": 29,
   "metadata": {},
   "outputs": [
    {
     "name": "stdout",
     "output_type": "stream",
     "text": [
      "KUSHALGOUDA SHIVANAGOUDA PATIL 4\n"
     ]
    },
    {
     "data": {
      "text/html": [
       "<div>\n",
       "<style scoped>\n",
       "    .dataframe tbody tr th:only-of-type {\n",
       "        vertical-align: middle;\n",
       "    }\n",
       "\n",
       "    .dataframe tbody tr th {\n",
       "        vertical-align: top;\n",
       "    }\n",
       "\n",
       "    .dataframe thead th {\n",
       "        text-align: right;\n",
       "    }\n",
       "</style>\n",
       "<table border=\"1\" class=\"dataframe\">\n",
       "  <thead>\n",
       "    <tr style=\"text-align: right;\">\n",
       "      <th></th>\n",
       "      <th>Course</th>\n",
       "      <th>Attendence</th>\n",
       "      <th>Marks</th>\n",
       "    </tr>\n",
       "  </thead>\n",
       "  <tbody>\n",
       "    <tr>\n",
       "      <th>0</th>\n",
       "      <td>Problem Solving and Analysis</td>\n",
       "      <td>0%</td>\n",
       "      <td>0/0</td>\n",
       "    </tr>\n",
       "    <tr>\n",
       "      <th>1</th>\n",
       "      <td>Probability and Statistics</td>\n",
       "      <td>96%</td>\n",
       "      <td>15/15</td>\n",
       "    </tr>\n",
       "    <tr>\n",
       "      <th>2</th>\n",
       "      <td>Microcontroller: Programming and Interfacing</td>\n",
       "      <td>75%</td>\n",
       "      <td>0/0</td>\n",
       "    </tr>\n",
       "    <tr>\n",
       "      <th>3</th>\n",
       "      <td>Object Oriented Programming</td>\n",
       "      <td>61%</td>\n",
       "      <td>19/20</td>\n",
       "    </tr>\n",
       "    <tr>\n",
       "      <th>4</th>\n",
       "      <td>Operating System Principles and Programming</td>\n",
       "      <td>71%</td>\n",
       "      <td>11/15</td>\n",
       "    </tr>\n",
       "    <tr>\n",
       "      <th>5</th>\n",
       "      <td>Principles of Compiler Design</td>\n",
       "      <td>100%</td>\n",
       "      <td>12/15</td>\n",
       "    </tr>\n",
       "    <tr>\n",
       "      <th>6</th>\n",
       "      <td>Exploratory Data Analysis</td>\n",
       "      <td>91%</td>\n",
       "      <td>0/0</td>\n",
       "    </tr>\n",
       "    <tr>\n",
       "      <th>7</th>\n",
       "      <td>Object-Oriented Programming Lab</td>\n",
       "      <td>100%</td>\n",
       "      <td>0/0</td>\n",
       "    </tr>\n",
       "  </tbody>\n",
       "</table>\n",
       "</div>"
      ],
      "text/plain": [
       "                                         Course Attendence  Marks\n",
       "0                  Problem Solving and Analysis         0%    0/0\n",
       "1                    Probability and Statistics        96%  15/15\n",
       "2  Microcontroller: Programming and Interfacing        75%    0/0\n",
       "3                   Object Oriented Programming        61%  19/20\n",
       "4   Operating System Principles and Programming        71%  11/15\n",
       "5                 Principles of Compiler Design       100%  12/15\n",
       "6                     Exploratory Data Analysis        91%    0/0\n",
       "7               Object-Oriented Programming Lab       100%    0/0"
      ]
     },
     "execution_count": 29,
     "metadata": {},
     "output_type": "execute_result"
    }
   ],
   "source": [
    "soup=BeautifulSoup(driver.page_source)\n",
    "name=soup.find_all('div',class_=\"tname2\")[0].text.strip()\n",
    "semester=soup.find_all('div',class_=\"tname2\")[2].text.strip().split()[1]\n",
    "courses=soup.find_all('div',class_=\"coursename\")\n",
    "attendence=soup.find_all('a',title=\"Attendence\")\n",
    "marks=soup.find_all('div',class_='cie')\n",
    "\n",
    "print(name,semester)\n",
    "marks_list=list()\n",
    "course_list=list()\n",
    "attendence_list=list()\n",
    "for i in range(len(courses)):\n",
    "    course_list.append(courses[i].text)\n",
    "    attendence_list.append(attendence[i*2].text)\n",
    "    marks_list.append(marks[i].text.strip('\\nInternal Assessment'))\n",
    "df=pd.DataFrame({'Course':course_list,'Attendence':attendence_list,'Marks':marks_list})\n",
    "df"
   ]
  },
  {
   "cell_type": "code",
   "execution_count": 32,
   "metadata": {},
   "outputs": [],
   "source": [
    "df.to_csv('data.csv',index=False)"
   ]
  },
  {
   "cell_type": "code",
   "execution_count": 30,
   "metadata": {},
   "outputs": [],
   "source": [
    "driver.quit()"
   ]
  },
  {
   "cell_type": "code",
   "execution_count": null,
   "metadata": {},
   "outputs": [],
   "source": [
    "\n"
   ]
  }
 ],
 "metadata": {
  "kernelspec": {
   "display_name": "Python 3",
   "language": "python",
   "name": "python3"
  },
  "language_info": {
   "codemirror_mode": {
    "name": "ipython",
    "version": 3
   },
   "file_extension": ".py",
   "mimetype": "text/x-python",
   "name": "python",
   "nbconvert_exporter": "python",
   "pygments_lexer": "ipython3",
   "version": "3.10.6"
  },
  "orig_nbformat": 4
 },
 "nbformat": 4,
 "nbformat_minor": 2
}
